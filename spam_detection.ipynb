{
 "cells": [
  {
   "cell_type": "code",
   "execution_count": 2,
   "id": "cbe99edb-dd65-428e-a701-ca22312e86f1",
   "metadata": {},
   "outputs": [
    {
     "name": "stdout",
     "output_type": "stream",
     "text": [
      "<bound method DataFrame.info of      Category                                            Message\n",
      "0         ham  Go until jurong point, crazy.. Available only ...\n",
      "1         ham                      Ok lar... Joking wif u oni...\n",
      "2        spam  Free entry in 2 a wkly comp to win FA Cup fina...\n",
      "3         ham  U dun say so early hor... U c already then say...\n",
      "4         ham  Nah I don't think he goes to usf, he lives aro...\n",
      "...       ...                                                ...\n",
      "5567     spam  This is the 2nd time we have tried 2 contact u...\n",
      "5568      ham               Will ü b going to esplanade fr home?\n",
      "5569      ham  Pity, * was in mood for that. So...any other s...\n",
      "5570      ham  The guy did some bitching but I acted like i'd...\n",
      "5571      ham                         Rofl. Its true to its name\n",
      "\n",
      "[5572 rows x 2 columns]>\n"
     ]
    }
   ],
   "source": [
    "import pandas as pd\n",
    "\n",
    "df = pd.read_csv(\"spam.csv\")\n",
    "print(df.info)"
   ]
  },
  {
   "cell_type": "code",
   "execution_count": 3,
   "id": "05454d19-6c06-4f7f-a337-0daa88e2618a",
   "metadata": {},
   "outputs": [
    {
     "name": "stdout",
     "output_type": "stream",
     "text": [
      "Index(['Category', 'Message'], dtype='object')\n"
     ]
    }
   ],
   "source": [
    "print(df.columns)"
   ]
  },
  {
   "cell_type": "code",
   "execution_count": 4,
   "id": "bf9ce614-c294-46f5-b07e-62b2ceff389e",
   "metadata": {},
   "outputs": [
    {
     "data": {
      "text/plain": [
       "Category    0\n",
       "Message     0\n",
       "dtype: int64"
      ]
     },
     "execution_count": 4,
     "metadata": {},
     "output_type": "execute_result"
    }
   ],
   "source": [
    "df.isna().sum()"
   ]
  },
  {
   "cell_type": "code",
   "execution_count": 5,
   "id": "00cdb223-75c2-4a78-8b7b-a2cfaf39516f",
   "metadata": {},
   "outputs": [
    {
     "data": {
      "text/plain": [
       "2"
      ]
     },
     "execution_count": 5,
     "metadata": {},
     "output_type": "execute_result"
    }
   ],
   "source": [
    "# Makes sure only two categories are there\n",
    "df['Category'].nunique()"
   ]
  },
  {
   "cell_type": "code",
   "execution_count": 6,
   "id": "e2297c92-824b-4dd7-a240-5390508cc516",
   "metadata": {},
   "outputs": [
    {
     "data": {
      "text/html": [
       "<div>\n",
       "<style scoped>\n",
       "    .dataframe tbody tr th:only-of-type {\n",
       "        vertical-align: middle;\n",
       "    }\n",
       "\n",
       "    .dataframe tbody tr th {\n",
       "        vertical-align: top;\n",
       "    }\n",
       "\n",
       "    .dataframe thead th {\n",
       "        text-align: right;\n",
       "    }\n",
       "</style>\n",
       "<table border=\"1\" class=\"dataframe\">\n",
       "  <thead>\n",
       "    <tr style=\"text-align: right;\">\n",
       "      <th></th>\n",
       "      <th>Message</th>\n",
       "      <th>Category_spam</th>\n",
       "    </tr>\n",
       "  </thead>\n",
       "  <tbody>\n",
       "    <tr>\n",
       "      <th>0</th>\n",
       "      <td>Go until jurong point, crazy.. Available only ...</td>\n",
       "      <td>0.0</td>\n",
       "    </tr>\n",
       "    <tr>\n",
       "      <th>1</th>\n",
       "      <td>Ok lar... Joking wif u oni...</td>\n",
       "      <td>0.0</td>\n",
       "    </tr>\n",
       "    <tr>\n",
       "      <th>2</th>\n",
       "      <td>Free entry in 2 a wkly comp to win FA Cup fina...</td>\n",
       "      <td>1.0</td>\n",
       "    </tr>\n",
       "    <tr>\n",
       "      <th>3</th>\n",
       "      <td>U dun say so early hor... U c already then say...</td>\n",
       "      <td>0.0</td>\n",
       "    </tr>\n",
       "    <tr>\n",
       "      <th>4</th>\n",
       "      <td>Nah I don't think he goes to usf, he lives aro...</td>\n",
       "      <td>0.0</td>\n",
       "    </tr>\n",
       "    <tr>\n",
       "      <th>...</th>\n",
       "      <td>...</td>\n",
       "      <td>...</td>\n",
       "    </tr>\n",
       "    <tr>\n",
       "      <th>5567</th>\n",
       "      <td>This is the 2nd time we have tried 2 contact u...</td>\n",
       "      <td>1.0</td>\n",
       "    </tr>\n",
       "    <tr>\n",
       "      <th>5568</th>\n",
       "      <td>Will ü b going to esplanade fr home?</td>\n",
       "      <td>0.0</td>\n",
       "    </tr>\n",
       "    <tr>\n",
       "      <th>5569</th>\n",
       "      <td>Pity, * was in mood for that. So...any other s...</td>\n",
       "      <td>0.0</td>\n",
       "    </tr>\n",
       "    <tr>\n",
       "      <th>5570</th>\n",
       "      <td>The guy did some bitching but I acted like i'd...</td>\n",
       "      <td>0.0</td>\n",
       "    </tr>\n",
       "    <tr>\n",
       "      <th>5571</th>\n",
       "      <td>Rofl. Its true to its name</td>\n",
       "      <td>0.0</td>\n",
       "    </tr>\n",
       "  </tbody>\n",
       "</table>\n",
       "<p>5572 rows × 2 columns</p>\n",
       "</div>"
      ],
      "text/plain": [
       "                                                Message  Category_spam\n",
       "0     Go until jurong point, crazy.. Available only ...            0.0\n",
       "1                         Ok lar... Joking wif u oni...            0.0\n",
       "2     Free entry in 2 a wkly comp to win FA Cup fina...            1.0\n",
       "3     U dun say so early hor... U c already then say...            0.0\n",
       "4     Nah I don't think he goes to usf, he lives aro...            0.0\n",
       "...                                                 ...            ...\n",
       "5567  This is the 2nd time we have tried 2 contact u...            1.0\n",
       "5568               Will ü b going to esplanade fr home?            0.0\n",
       "5569  Pity, * was in mood for that. So...any other s...            0.0\n",
       "5570  The guy did some bitching but I acted like i'd...            0.0\n",
       "5571                         Rofl. Its true to its name            0.0\n",
       "\n",
       "[5572 rows x 2 columns]"
      ]
     },
     "execution_count": 6,
     "metadata": {},
     "output_type": "execute_result"
    }
   ],
   "source": [
    "from sklearn.model_selection import train_test_split\n",
    "from sklearn.preprocessing import OneHotEncoder\n",
    "from sklearn.pipeline import Pipeline\n",
    "\n",
    "ohe = OneHotEncoder(drop='first', sparse_output=False)\n",
    "encoded_category = ohe.fit_transform(df[['Category']])\n",
    "encoded_category_df = pd.DataFrame(encoded_category,columns=ohe.get_feature_names_out(['Category'])) \n",
    "df = pd.concat([df.drop('Category',axis=1) , encoded_category_df],axis=1)\n",
    "df"
   ]
  },
  {
   "cell_type": "code",
   "execution_count": 12,
   "id": "d8259eb5-680c-4cc3-b2a5-b09264a2abb8",
   "metadata": {},
   "outputs": [
    {
     "name": "stdout",
     "output_type": "stream",
     "text": [
      "Lasso : 0.0\n",
      "Ridge : 0.7651047902455272\n",
      "LogisticRegression : 0.7061948557537019\n",
      "RandomForestRegressor : 0.7767635691569752\n",
      "GradientBoostingRegressor : 0.6295860818406014\n",
      "SVR : 0.6592533578098589\n",
      "KNeighborsRegressor : 0.36155896983862623\n",
      "DecisionTreeRegressor : 0.6427687244236677\n"
     ]
    }
   ],
   "source": [
    "from sklearn.metrics import accuracy_score, precision_score, recall_score, f1_score, confusion_matrix, roc_auc_score, r2_score\n",
    "from sklearn.linear_model import Lasso,Ridge,LogisticRegression\n",
    "from sklearn.ensemble import RandomForestRegressor, GradientBoostingRegressor\n",
    "from sklearn.feature_extraction.text import TfidfVectorizer\n",
    "from sklearn.svm import SVR\n",
    "from sklearn.neighbors import KNeighborsRegressor\n",
    "from sklearn.tree import DecisionTreeRegressor\n",
    "\n",
    "\n",
    "X = df['Message']\n",
    "y = df['Category_spam']\n",
    "X_train,X_test,y_train,y_test = train_test_split(X,y,random_state=42,test_size = 0.2,stratify=y)\n",
    "\n",
    "models = {\n",
    "    'Lasso':Lasso(),\n",
    "    'Ridge':Ridge(),\n",
    "    'LogisticRegression':LogisticRegression(),\n",
    "    'RandomForestRegressor':RandomForestRegressor(),\n",
    "    'GradientBoostingRegressor':GradientBoostingRegressor(),    \n",
    "    'SVR':SVR(),\n",
    "    'KNeighborsRegressor':KNeighborsRegressor(),\n",
    "    'DecisionTreeRegressor':DecisionTreeRegressor()\n",
    "}\n",
    "\n",
    "scores = {}\n",
    "for name , model in models.items():\n",
    "    pipeline = Pipeline(steps=[\n",
    "        ('vectorizer',TfidfVectorizer()),\n",
    "        ('model',model)\n",
    "    ])\n",
    "    pipeline.fit(X_train,y_train)\n",
    "    y_pred = pipeline.predict(X_test)\n",
    "    scores[name] = r2_score(y_pred,y_test)\n",
    "\n",
    "for name,score in scores.items():\n",
    "    print(f'{name} : {score}')"
   ]
  },
  {
   "cell_type": "code",
   "execution_count": 20,
   "id": "166d2475-952e-4849-83a4-1fdf97c3809b",
   "metadata": {},
   "outputs": [
    {
     "name": "stdout",
     "output_type": "stream",
     "text": [
      "RandomForestClassifier : 0.8712121212121212\n",
      "GradientBoostingClassifier : 0.8897058823529411\n",
      "SVC : 0.9247311827956989\n",
      "KNeighborsClassifier : 0.8372093023255814\n",
      "DecisionTreeClassifier : 0.865979381443299\n"
     ]
    }
   ],
   "source": [
    "from sklearn.ensemble import RandomForestClassifier, GradientBoostingClassifier\n",
    "from sklearn.svm import SVC\n",
    "from sklearn.neighbors import KNeighborsClassifier\n",
    "from sklearn.tree import DecisionTreeClassifier\n",
    "\n",
    "models = {\n",
    "    'RandomForestClassifier':RandomForestClassifier(),\n",
    "    'GradientBoostingClassifier':GradientBoostingClassifier(),    \n",
    "    'SVC':SVC(probability=True),\n",
    "    'KNeighborsClassifier':KNeighborsClassifier(),\n",
    "    'DecisionTreeClassifier':DecisionTreeClassifier()\n",
    "}\n",
    "\n",
    "scores = {}\n",
    "for name , model in models.items():\n",
    "    pipeline = Pipeline(steps=[\n",
    "        ('vectorizer',TfidfVectorizer()),\n",
    "        ('model',model)\n",
    "    ])\n",
    "    pipeline.fit(X_train,y_train)\n",
    "    y_pred = pipeline.predict(X_test)\n",
    "    scores[name] = f1_score(y_pred,y_test)\n",
    "\n",
    "for name,score in scores.items():\n",
    "    print(f'{name} : {score}')"
   ]
  },
  {
   "cell_type": "code",
   "execution_count": 65,
   "id": "4c648984-36e2-4703-867c-7fdfd83a2dbd",
   "metadata": {},
   "outputs": [
    {
     "data": {
      "image/png": "[encoded data removed]",
      "text/plain": [
       "<Figure size 640x480 with 1 Axes>"
      ]
     },
     "metadata": {},
     "output_type": "display_data"
    }
   ],
   "source": [
    "import matplotlib.pyplot as plt\n",
    "from sklearn.metrics import roc_curve, roc_auc_score\n",
    "for name , model in models.items():\n",
    "    pipeline = Pipeline(steps=[\n",
    "        ('vectorizer',TfidfVectorizer()),\n",
    "        ('model',model)\n",
    "    ])\n",
    "    pipeline.fit(X_train,y_train)\n",
    "    y_probs = pipeline.predict_proba(X_test)[:,1]\n",
    "    fpr,tpr,_ = roc_curve(y_test,y_probs)\n",
    "    auc = roc_auc_score(y_test,y_probs)\n",
    "    plt.plot(fpr,tpr,label=f\"{name} (AUC:{auc:.2f})\")\n",
    "\n",
    "plt.xlabel(\"False Positive\")\n",
    "plt.ylabel(\"True Positive\")\n",
    "plt.legend(loc='lower right')\n",
    "plt.show()"
   ]
  },
  {
   "cell_type": "code",
   "execution_count": 35,
   "id": "e79f3753-d1d9-4f3f-9bba-f3e3dc4930ff",
   "metadata": {},
   "outputs": [
    {
     "name": "stdout",
     "output_type": "stream",
     "text": [
      "Best parameters: {'model__C': 1, 'model__gamma': 'scale', 'model__kernel': 'linear'} , f1_score: 0.9416041683539411\n"
     ]
    }
   ],
   "source": [
    "from sklearn.model_selection import GridSearchCV as GCV\n",
    "\n",
    "param_grids = {\n",
    "    'model__C':[0.1,1,10],\n",
    "    'model__kernel':['rbf','linear','poly','sigmoid'],\n",
    "    'model__gamma':['scale','auto']\n",
    "}\n",
    "pipeline = Pipeline(steps=[\n",
    "    ('vectorizer',TfidfVectorizer()),\n",
    "    ('model',SVC(probability=True))\n",
    "])\n",
    "\n",
    "model = GCV(pipeline,param_grids,cv=5,scoring='f1')\n",
    "model.fit(X_train,y_train)\n",
    "\n",
    "print(f\"Best parameters: {model.best_params_} , f1_score: {model.best_score_}\")\n"
   ]
  },
  {
   "cell_type": "code",
   "execution_count": 37,
   "id": "4dfd0ad6-6654-480e-a84d-d167d770bd7e",
   "metadata": {},
   "outputs": [
    {
     "name": "stdout",
     "output_type": "stream",
     "text": [
      "AUC: 0.99\n"
     ]
    }
   ],
   "source": [
    "best_model = model.best_estimator_\n",
    "y_probs = best_model.predict_proba(X_test)[:,1]\n",
    "auc = roc_auc_score(y_test,y_probs)\n",
    "print(f'AUC: {auc:.2f}')"
   ]
  },
  {
   "cell_type": "code",
   "execution_count": 64,
   "id": "5c263f76-22a5-44ea-90fe-46d966e688c2",
   "metadata": {},
   "outputs": [
    {
     "name": "stdout",
     "output_type": "stream",
     "text": [
      "[1. 0. 0. 0. 1.]\n",
      "\n",
      "'WINNER!! As a valued network customer you have been selected to receivea £900 prize reward' : Spam\n",
      "\n",
      "'Hi how are you? I love you.' : Not spam\n",
      "\n",
      "'Jibrish the mf' : Not spam\n",
      "\n",
      "'Well, what are you going to do today?' : Not spam\n",
      "\n",
      "'Congratulations!! You have won the lottery of Rs.10000 . Please provide your bank credentials to receive. ' : Spam\n",
      "\n"
     ]
    }
   ],
   "source": [
    "Messages = [\n",
    "    \"WINNER!! As a valued network customer you have been selected to receivea £900 prize reward\",\n",
    "    'Hi how are you? I love you.',\n",
    "    'Jibrish the mf',\n",
    "    'Well, what are you going to do today?',\n",
    "    \"Congratulations!! You have won the lottery of Rs.10000 . Please provide your bank credentials to receive. \"\n",
    "]\n",
    "prediction = best_model.predict(Messages)\n",
    "print(prediction,end='\\n\\n')\n",
    "for idx,message in enumerate(Messages):\n",
    "    print(f\"'{message}' : {'Spam' if prediction[idx] else 'Not spam'}\",end='\\n\\n')"
   ]
  },
  {
   "cell_type": "code",
   "execution_count": 66,
   "id": "6b602a12-499a-4178-98d8-7737c3376c7e",
   "metadata": {},
   "outputs": [
    {
     "data": {
      "text/plain": [
       "['spam_detection_model.pkl']"
      ]
     },
     "execution_count": 66,
     "metadata": {},
     "output_type": "execute_result"
    }
   ],
   "source": [
    "from joblib import dump\n",
    "dump(best_model,'spam_detection_model.pkl')"
   ]
  }
 ],
 "metadata": {
  "kernelspec": {
   "display_name": "Python 3 (ipykernel)",
   "language": "python",
   "name": "python3"
  },
  "language_info": {
   "codemirror_mode": {
    "name": "ipython",
    "version": 3
   },
   "file_extension": ".py",
   "mimetype": "text/x-python",
   "name": "python",
   "nbconvert_exporter": "python",
   "pygments_lexer": "ipython3",
   "version": "3.11.1"
  }
 },
 "nbformat": 4,
 "nbformat_minor": 5
}
